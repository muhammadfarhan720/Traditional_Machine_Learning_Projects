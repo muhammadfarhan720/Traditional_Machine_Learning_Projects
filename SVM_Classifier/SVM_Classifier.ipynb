{
  "cells": [
    {
      "cell_type": "code",
      "execution_count": null,
      "metadata": {
        "colab": {
          "base_uri": "https://localhost:8080/"
        },
        "id": "IBaVpi4DE1Sz",
        "outputId": "6d12e86d-6f3e-4b0c-d162-f69788f531da"
      },
      "outputs": [
        {
          "output_type": "stream",
          "name": "stdout",
          "text": [
            "Looking in indexes: https://pypi.org/simple, https://us-python.pkg.dev/colab-wheels/public/simple/\n",
            "Collecting scikit-learn-intelex\n",
            "  Downloading scikit_learn_intelex-2021.6.3-py38-none-manylinux1_x86_64.whl (87 kB)\n",
            "\u001b[K     |████████████████████████████████| 87 kB 2.8 MB/s \n",
            "\u001b[?25hRequirement already satisfied: scikit-learn>=0.22 in /usr/local/lib/python3.8/dist-packages (from scikit-learn-intelex) (1.0.2)\n",
            "Collecting daal4py==2021.6.3\n",
            "  Downloading daal4py-2021.6.3-py38-none-manylinux1_x86_64.whl (26.1 MB)\n",
            "\u001b[K     |████████████████████████████████| 26.1 MB 3.9 MB/s \n",
            "\u001b[?25hCollecting daal==2021.6.0\n",
            "  Downloading daal-2021.6.0-py2.py3-none-manylinux1_x86_64.whl (300.3 MB)\n",
            "\u001b[K     |████████████████████████████████| 300.3 MB 20 kB/s \n",
            "\u001b[?25hRequirement already satisfied: numpy>=1.15 in /usr/local/lib/python3.8/dist-packages (from daal4py==2021.6.3->scikit-learn-intelex) (1.21.6)\n",
            "Collecting tbb==2021.*\n",
            "  Downloading tbb-2021.7.1-py2.py3-none-manylinux1_x86_64.whl (4.0 MB)\n",
            "\u001b[K     |████████████████████████████████| 4.0 MB 47.6 MB/s \n",
            "\u001b[?25hRequirement already satisfied: threadpoolctl>=2.0.0 in /usr/local/lib/python3.8/dist-packages (from scikit-learn>=0.22->scikit-learn-intelex) (3.1.0)\n",
            "Requirement already satisfied: scipy>=1.1.0 in /usr/local/lib/python3.8/dist-packages (from scikit-learn>=0.22->scikit-learn-intelex) (1.7.3)\n",
            "Requirement already satisfied: joblib>=0.11 in /usr/local/lib/python3.8/dist-packages (from scikit-learn>=0.22->scikit-learn-intelex) (1.2.0)\n",
            "Installing collected packages: tbb, daal, daal4py, scikit-learn-intelex\n",
            "Successfully installed daal-2021.6.0 daal4py-2021.6.3 scikit-learn-intelex-2021.6.3 tbb-2021.7.1\n"
          ]
        }
      ],
      "source": [
        "!pip install scikit-learn-intelex\n",
        "\n"
      ]
    },
    {
      "cell_type": "code",
      "execution_count": null,
      "metadata": {
        "colab": {
          "base_uri": "https://localhost:8080/"
        },
        "id": "yBrEXfnEE-0J",
        "outputId": "dd9a0043-ca47-42c0-a95b-6c08f65b1970"
      },
      "outputs": [
        {
          "output_type": "stream",
          "name": "stderr",
          "text": [
            "Intel(R) Extension for Scikit-learn* enabled (https://github.com/intel/scikit-learn-intelex)\n"
          ]
        }
      ],
      "source": [
        "import numpy as np\n",
        "from sklearnex import patch_sklearn\n",
        "patch_sklearn()\n",
        "\n",
        "from sklearn.cluster import DBSCAN\n",
        "\n",
        "X = np.array([[1., 2.], [2., 2.], [2., 3.],\n",
        "            [8., 7.], [8., 8.], [25., 80.]], dtype=np.float32)\n",
        "clustering = DBSCAN(eps=3, min_samples=2).fit(X)\n"
      ]
    },
    {
      "cell_type": "code",
      "execution_count": null,
      "metadata": {
        "colab": {
          "base_uri": "https://localhost:8080/"
        },
        "id": "t6iVdFKU8D-e",
        "outputId": "6d7356a5-e882-416a-8381-e6b008d42e74"
      },
      "outputs": [
        {
          "output_type": "stream",
          "name": "stdout",
          "text": [
            "(145460, 11)\n",
            "        MinTemp  MaxTemp  WindSpeed9am  WindSpeed3pm  Humidity9am  \\\n",
            "0          13.4     22.9          20.0          24.0         71.0   \n",
            "1           7.4     25.1           4.0          22.0         44.0   \n",
            "2          12.9     25.7          19.0          26.0         38.0   \n",
            "3           9.2     28.0          11.0           9.0         45.0   \n",
            "4          17.5     32.3           7.0          20.0         82.0   \n",
            "...         ...      ...           ...           ...          ...   \n",
            "142194      2.8     23.4          13.0          11.0         51.0   \n",
            "142195      3.6     25.3          13.0           9.0         56.0   \n",
            "142196      5.4     26.9           9.0           9.0         53.0   \n",
            "142197      7.8     27.0          13.0           7.0         51.0   \n",
            "142198     14.9     22.6          17.0          17.0         62.0   \n",
            "\n",
            "        Humidity3pm  Pressure9am  Pressure3pm  Temp9am  Temp3pm  \n",
            "0              22.0       1007.7       1007.1     16.9     21.8  \n",
            "1              25.0       1010.6       1007.8     17.2     24.3  \n",
            "2              30.0       1007.6       1008.7     21.0     23.2  \n",
            "3              16.0       1017.6       1012.8     18.1     26.5  \n",
            "4              33.0       1010.8       1006.0     17.8     29.7  \n",
            "...             ...          ...          ...      ...      ...  \n",
            "142194         24.0       1024.6       1020.3     10.1     22.4  \n",
            "142195         21.0       1023.5       1019.1     10.9     24.5  \n",
            "142196         24.0       1021.0       1016.8     12.5     26.1  \n",
            "142197         24.0       1019.4       1016.5     15.1     26.0  \n",
            "142198         36.0       1020.2       1017.9     15.0     20.9  \n",
            "\n",
            "[142199 rows x 10 columns]\n",
            "        MinTemp  MaxTemp  WindSpeed9am  WindSpeed3pm  Humidity9am  \\\n",
            "0          13.4     22.9          20.0          24.0         71.0   \n",
            "1           7.4     25.1           4.0          22.0         44.0   \n",
            "2          12.9     25.7          19.0          26.0         38.0   \n",
            "3           9.2     28.0          11.0           9.0         45.0   \n",
            "4          17.5     32.3           7.0          20.0         82.0   \n",
            "...         ...      ...           ...           ...          ...   \n",
            "145455      NaN      NaN           NaN           NaN          NaN   \n",
            "145456      NaN      NaN           NaN           NaN          NaN   \n",
            "145457      NaN      NaN           NaN           NaN          NaN   \n",
            "145458      NaN      NaN           NaN           NaN          NaN   \n",
            "145459      NaN      NaN           NaN           NaN          NaN   \n",
            "\n",
            "        Humidity3pm  Pressure9am  Pressure3pm  Temp9am  Temp3pm RainToday  \n",
            "0              22.0       1007.7       1007.1     16.9     21.8        No  \n",
            "1              25.0       1010.6       1007.8     17.2     24.3        No  \n",
            "2              30.0       1007.6       1008.7     21.0     23.2        No  \n",
            "3              16.0       1017.6       1012.8     18.1     26.5        No  \n",
            "4              33.0       1010.8       1006.0     17.8     29.7        No  \n",
            "...             ...          ...          ...      ...      ...       ...  \n",
            "145455          NaN          NaN          NaN      NaN      NaN        No  \n",
            "145456          NaN          NaN          NaN      NaN      NaN        No  \n",
            "145457          NaN          NaN          NaN      NaN      NaN        No  \n",
            "145458          NaN          NaN          NaN      NaN      NaN        No  \n",
            "145459          NaN          NaN          NaN      NaN      NaN        No  \n",
            "\n",
            "[145386 rows x 11 columns]\n"
          ]
        }
      ],
      "source": [
        "from numpy.lib.function_base import average\n",
        "from re import U\n",
        "from sklearn import tree\n",
        "from sklearn.neural_network import MLPRegressor\n",
        "from sklearn.model_selection import train_test_split\n",
        "import pydot\n",
        "import graphviz\n",
        "import pandas as pd\n",
        "import pydotplus\n",
        "import collections\n",
        "import matplotlib.pyplot as plt\n",
        "from sklearn.linear_model import SGDClassifier\n",
        "from sklearn.preprocessing import StandardScaler\n",
        "\n",
        "\n",
        "from sklearn.preprocessing import MinMaxScaler\n",
        "import numpy as np\n",
        "from sklearn.datasets import make_regression\n",
        "from sklearn.metrics import mean_squared_error\n",
        "from sklearn.model_selection import validation_curve\n",
        "\n",
        "from sklearn.impute import SimpleImputer\n",
        "\n",
        "fileName = \"/content/drive/MyDrive/Weather/weatherAUS.xlsx\"\n",
        "\n",
        "dataFrame= pd.read_excel(fileName,header=0, usecols=\"C,D,L,M,N,O,P,Q,T,U,V\")\n",
        "\n",
        "print(dataFrame.shape)\n",
        "\n",
        "dataFrame=dataFrame.dropna(subset=['RainToday'])\n",
        "\n",
        "\n",
        "\n",
        "x=dataFrame.drop([\"RainToday\"],axis=1)\n",
        "\n",
        "\n",
        "y=dataFrame.RainToday\n",
        "#y=y.to_numpy()\n",
        "#y=np.ravel(y)\n",
        "\n",
        "\n",
        "medianimputer = SimpleImputer(missing_values=np.nan, strategy='median')\n",
        "x=medianimputer.fit_transform(x)\n",
        "\n",
        "\n",
        "\n",
        "#print(type(x))\n",
        "\n",
        "x=pd.DataFrame(x, columns = ['MinTemp','MaxTemp','WindSpeed9am', 'WindSpeed3pm', 'Humidity9am', 'Humidity3pm', 'Pressure9am',  'Pressure3pm', 'Temp9am' , 'Temp3pm'])\n",
        "print(x)\n",
        "\n",
        "\n",
        "dataFrame=pd.concat([x,y],axis=1)\n",
        "\n",
        "\n",
        "\n",
        "#dataFrame.to_csv(\"mputed_hw_4_part_1.csv\", index=True)\n",
        "\n",
        "\n",
        "\n",
        "print(dataFrame)\n",
        "\n",
        "\n",
        "dataFrame=dataFrame.dropna()\n",
        "\n",
        "\n",
        "\n",
        "#**dataFrame.to_csv(\"imputed_hw_4_part_1.csv\", index=True)\n",
        "\n",
        "#trylinearfit(predictors.copy(), target, medianimputer)\n",
        ""
      ]
    },
    {
      "cell_type": "code",
      "execution_count": null,
      "metadata": {
        "colab": {
          "base_uri": "https://localhost:8080/"
        },
        "id": "McoocfoB0F3F",
        "outputId": "8c87be76-7a01-4281-b9b8-5452ae2057ed"
      },
      "outputs": [
        {
          "output_type": "stream",
          "name": "stdout",
          "text": [
            "         MinTemp   MaxTemp  WindSpeed9am  WindSpeed3pm  Humidity9am  \\\n",
            "0       0.516509  0.517241      0.153846      0.275862         0.71   \n",
            "1       0.375000  0.559387      0.030769      0.252874         0.44   \n",
            "2       0.504717  0.570881      0.146154      0.298851         0.38   \n",
            "3       0.417453  0.614943      0.084615      0.103448         0.45   \n",
            "4       0.613208  0.697318      0.053846      0.229885         0.82   \n",
            "...          ...       ...           ...           ...          ...   \n",
            "215071  0.686321  0.553640      0.115385      0.195402         0.76   \n",
            "215072  0.462264  0.703065      0.100000      0.252874         0.32   \n",
            "215073  0.521226  0.605364      0.115385      0.321839         0.59   \n",
            "215074  0.426887  0.335249      0.153846      0.195402         0.87   \n",
            "215075  0.639151  0.626437      0.200000      0.298851         0.55   \n",
            "\n",
            "        Humidity3pm  Pressure9am  Pressure3pm   Temp9am   Temp3pm RainToday  \n",
            "0              0.22     0.449587       0.4800  0.506356  0.519305        No  \n",
            "1              0.25     0.497521       0.4912  0.512712  0.567568        No  \n",
            "2              0.30     0.447934       0.5056  0.593220  0.546332        No  \n",
            "3              0.16     0.613223       0.5712  0.531780  0.610039        No  \n",
            "4              0.33     0.500826       0.4624  0.525424  0.671815        No  \n",
            "...             ...          ...          ...       ...       ...       ...  \n",
            "215071         0.54     0.393388       0.3840  0.612288  0.563707       Yes  \n",
            "215072         0.14     0.697521       0.6944  0.648305  0.720077       Yes  \n",
            "215073         0.44     0.557025       0.5424  0.588983  0.621622       Yes  \n",
            "215074         0.47     0.533884       0.6400  0.360169  0.330116       Yes  \n",
            "215075         0.53     0.684298       0.6832  0.699153  0.619691       Yes  \n",
            "\n",
            "[215076 rows x 11 columns]\n"
          ]
        }
      ],
      "source": [
        "x=dataFrame.drop([\"RainToday\"],axis=1)\n",
        "scalerX = MinMaxScaler()\n",
        "scalerX.fit(x)\n",
        "x = scalerX.transform(x)\n",
        "#*x=pd.DataFrame(x, columns = ['MinTemp','MaxTemp','WindSpeed9am', 'WindSpeed3pm', 'Humidity9am', 'Humidity3pm', 'Pressure9am',  'Pressure3pm', 'Temp9am' , 'Temp3pm'])\n",
        "\n",
        "#df = pd.DataFrame(my_array, columns = ['Column_A','Column_B','Column_C'])\n",
        "\n",
        "#print(type(x))\n",
        "#print(x)\n",
        "\n",
        "y=dataFrame.RainToday\n",
        "#y=y.to_numpy()\n",
        "y=np.ravel(y)\n",
        "\n",
        "\n",
        "\n",
        "#*newdataframe=pd.concat([x,y],axis=1)\n",
        "\n",
        "from imblearn.over_sampling import RandomOverSampler\n",
        "\n",
        "ros=RandomOverSampler(random_state=42)\n",
        "x_oversampled,y_oversampled=ros.fit_resample(x,y)\n",
        "\n",
        "#con = np.concatenate((x,y))\n",
        "\n",
        "x=pd.DataFrame(x_oversampled, columns = ['MinTemp','MaxTemp','WindSpeed9am', 'WindSpeed3pm', 'Humidity9am', 'Humidity3pm', 'Pressure9am',  'Pressure3pm', 'Temp9am' , 'Temp3pm'])\n",
        "y=pd.DataFrame(y_oversampled, columns=['RainToday'])\n",
        "\n",
        "newdataFrame=pd.concat([x,y],axis=1)\n",
        "\n",
        "\n",
        "\n",
        "print(newdataFrame)\n",
        "\n",
        "#*newdataFrame.to_csv(\"balanced_imputed_hw_4_part_1.csv\", index=True)\n",
        "\n",
        "#newdataframe=pd.dataFrame(data=con)"
      ]
    },
    {
      "cell_type": "code",
      "execution_count": null,
      "metadata": {
        "colab": {
          "base_uri": "https://localhost:8080/"
        },
        "id": "3F_c94-wBmQi",
        "outputId": "2b46073c-5ad2-42b3-c8b4-32afedcac7c3"
      },
      "outputs": [
        {
          "output_type": "stream",
          "name": "stdout",
          "text": [
            "<class 'numpy.ndarray'>\n",
            "[[0.51650943 0.51724138 0.15384615 ... 0.48       0.50635593 0.51930502]\n",
            " [0.375      0.55938697 0.03076923 ... 0.4912     0.51271186 0.56756757]\n",
            " [0.50471698 0.57088123 0.14615385 ... 0.5056     0.59322034 0.54633205]\n",
            " ...\n",
            " [0.52122642 0.60536398 0.11538462 ... 0.5424     0.58898305 0.62162162]\n",
            " [0.42688679 0.33524904 0.15384615 ... 0.64       0.36016949 0.33011583]\n",
            " [0.63915094 0.62643678 0.2        ... 0.6832     0.69915254 0.61969112]]\n",
            "['No' 'No' 'No' ... 'Yes' 'Yes' 'Yes']\n"
          ]
        },
        {
          "output_type": "execute_result",
          "data": {
            "text/plain": [
              "SVC(C=100, cache_size=800, gamma=1, tol=0.01)"
            ]
          },
          "metadata": {},
          "execution_count": 5
        }
      ],
      "source": [
        "from numpy.lib.function_base import average\n",
        "from re import U\n",
        "from sklearn import tree\n",
        "from sklearn.neural_network import MLPRegressor\n",
        "from sklearn.model_selection import train_test_split\n",
        "import pydot\n",
        "import graphviz\n",
        "import pandas as pd\n",
        "import pydotplus\n",
        "import collections\n",
        "import matplotlib.pyplot as plt\n",
        "from sklearn.linear_model import SGDClassifier\n",
        "\n",
        "\n",
        "from sklearn.preprocessing import MinMaxScaler\n",
        "import numpy as np\n",
        "from sklearn.datasets import make_regression\n",
        "from sklearn.metrics import mean_squared_error\n",
        "from sklearn.model_selection import validation_curve\n",
        "\n",
        "from sklearn.impute import KNNImputer\n",
        "\n",
        "\n",
        "from sklearn import metrics\n",
        "from sklearn.metrics import accuracy_score\n",
        "\n",
        "\n",
        "x=newdataFrame.drop([\"RainToday\"],axis=1)\n",
        "x=x.to_numpy()\n",
        "#x=x.to_numpy\n",
        "\n",
        "print(type(x))\n",
        "print(x)\n",
        "\n",
        "y=newdataFrame.RainToday\n",
        "\n",
        "y=y.to_numpy()\n",
        "y=np.ravel(y)\n",
        "\n",
        "\n",
        "\n",
        "print(y)\n",
        "\n",
        "\n",
        "\n",
        "\n",
        "X_train, X_test, y_train, y_test = train_test_split(x, y, test_size=0.4, random_state=42)\n",
        "\n",
        "from sklearn.svm import SVC\n",
        "\n",
        "model= SVC(kernel='rbf',probability=False, gamma=1, cache_size=800,tol=.01,C=100)\n",
        "\n",
        "model.fit(X_train,y_train)\n"
      ]
    },
    {
      "cell_type": "code",
      "execution_count": null,
      "metadata": {
        "colab": {
          "base_uri": "https://localhost:8080/"
        },
        "id": "Iqf30kti_IOM",
        "outputId": "74078ffa-0580-491d-d565-ed33b342e614"
      },
      "outputs": [
        {
          "output_type": "stream",
          "name": "stdout",
          "text": [
            "0.5309713940323837\n",
            "Classification accuracy = 0.530971\n"
          ]
        }
      ],
      "source": [
        "\n",
        "\n",
        "Ypred=model.predict(X_test)\n",
        "\n",
        "print(model.score(X_test,y_test))\n",
        "\n",
        "\n",
        "print (\"Classification accuracy = %f\" % metrics.accuracy_score(y_test, Ypred))\n",
        ""
      ]
    },
    {
      "cell_type": "code",
      "execution_count": null,
      "metadata": {
        "colab": {
          "base_uri": "https://localhost:8080/"
        },
        "id": "kvoLF_c0RO3J",
        "outputId": "62a3b47f-1949-4911-b974-67780f10f5c7"
      },
      "outputs": [
        {
          "output_type": "execute_result",
          "data": {
            "text/plain": [
              "GridSearchCV(estimator=SVC(),\n",
              "             param_grid={'C': [0.1, 1, 100], 'gamma': [1, 0.1, 0.01],\n",
              "                         'kernel': ['rbf']})"
            ]
          },
          "metadata": {},
          "execution_count": 7
        }
      ],
      "source": [
        "from sklearn import svm, datasets\n",
        "from sklearn.model_selection import GridSearchCV\n",
        "\n",
        "\n",
        "parameters = {'C': [0.1,1,100], 'gamma': [1,0.1,0.01],'kernel': ['rbf']}\n",
        "svc = svm.SVC()\n",
        "clf = GridSearchCV(svc, parameters)\n",
        "clf.fit(X_train, y_train)\n"
      ]
    },
    {
      "cell_type": "code",
      "source": [
        "print(clf.best_params_)\n",
        "print(clf.best_score_)"
      ],
      "metadata": {
        "colab": {
          "base_uri": "https://localhost:8080/"
        },
        "id": "qP1-JOINk5YA",
        "outputId": "67b182ac-91a7-41a3-d5b7-e8d541458522"
      },
      "execution_count": null,
      "outputs": [
        {
          "output_type": "stream",
          "name": "stdout",
          "text": [
            "{'C': 100, 'gamma': 1, 'kernel': 'rbf'}\n",
            "0.5332093455771243\n"
          ]
        }
      ]
    }
  ],
  "metadata": {
    "colab": {
      "provenance": []
    },
    "kernelspec": {
      "display_name": "Python 3",
      "name": "python3"
    },
    "language_info": {
      "name": "python"
    }
  },
  "nbformat": 4,
  "nbformat_minor": 0
}